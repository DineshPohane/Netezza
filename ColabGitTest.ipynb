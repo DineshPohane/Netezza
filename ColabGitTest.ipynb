{
  "nbformat": 4,
  "nbformat_minor": 0,
  "metadata": {
    "colab": {
      "name": "Untitled1.ipynb",
      "provenance": [],
      "authorship_tag": "ABX9TyPkd4ZIO2ukP072kwgVnx1x",
      "include_colab_link": true
    },
    "kernelspec": {
      "name": "python3",
      "display_name": "Python 3"
    }
  },
  "cells": [
    {
      "cell_type": "markdown",
      "metadata": {
        "id": "view-in-github",
        "colab_type": "text"
      },
      "source": [
        "<a href=\"https://colab.research.google.com/github/DineshPohane/Netezza/blob/master/ColabGitTest.ipynb\" target=\"_parent\"><img src=\"https://colab.research.google.com/assets/colab-badge.svg\" alt=\"Open In Colab\"/></a>"
      ]
    },
    {
      "cell_type": "code",
      "metadata": {
        "id": "N9rDU9Rr6ISG",
        "colab_type": "code",
        "colab": {
          "base_uri": "https://localhost:8080/",
          "height": 51
        },
        "outputId": "57958790-88cd-49bd-9efe-aa8c2a883fcc"
      },
      "source": [
        "!pip install -q xlrd\n",
        "!git clone https://github.com/DineshPohane/Netezza.git\n",
        "!ls\n"
      ],
      "execution_count": 3,
      "outputs": [
        {
          "output_type": "stream",
          "text": [
            "fatal: destination path 'Netezza' already exists and is not an empty directory.\n",
            "Netezza  sample_data\n"
          ],
          "name": "stdout"
        }
      ]
    }
  ]
}